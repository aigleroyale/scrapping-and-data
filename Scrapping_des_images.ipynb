{
  "nbformat": 4,
  "nbformat_minor": 0,
  "metadata": {
    "colab": {
      "provenance": []
    },
    "kernelspec": {
      "name": "python3",
      "display_name": "Python 3"
    },
    "language_info": {
      "name": "python"
    }
  },
  "cells": [
    {
      "cell_type": "code",
      "execution_count": 8,
      "metadata": {
        "id": "fp4fLKcxHonM"
      },
      "outputs": [],
      "source": [
        "import requests\n",
        "from bs4 import BeautifulSoup as bs\n",
        "import matplotlib.pyplot as plt\n",
        "import os, io"
      ]
    },
    {
      "cell_type": "code",
      "source": [
        "path = \"https://fr.vikidia.org/wiki/Liste_des_pays_d'Afrique\"\n",
        "\n",
        "response = requests.get(path)\n",
        "soup = bs(response.content, 'html.parser')\n"
      ],
      "metadata": {
        "id": "Pya7nBLuItfX"
      },
      "execution_count": 2,
      "outputs": []
    },
    {
      "cell_type": "code",
      "source": [
        "soup"
      ],
      "metadata": {
        "id": "HsT1wAhiI7n4"
      },
      "execution_count": null,
      "outputs": []
    },
    {
      "cell_type": "code",
      "source": [
        "images = []\n",
        "\n",
        "for i in range(len(soup.select('tbody img'))):\n",
        "  if soup.select('tbody img')[i]['src'][:3] == 'htt':\n",
        "    images.append(soup.select('tbody img')[i]['src'])\n",
        "  else:\n",
        "    images.append('https:' + soup.select('tbody img')[i]['src'])\n"
      ],
      "metadata": {
        "id": "IhAprG_QJGpo"
      },
      "execution_count": 4,
      "outputs": []
    },
    {
      "cell_type": "code",
      "source": [
        "images"
      ],
      "metadata": {
        "colab": {
          "base_uri": "https://localhost:8080/"
        },
        "id": "1Q72ElhOS3dA",
        "outputId": "32a4dc2f-adaf-4dd8-b2c9-ef6a4e808061"
      },
      "execution_count": 5,
      "outputs": [
        {
          "output_type": "execute_result",
          "data": {
            "text/plain": [
              "['https://download.vikidia.org/vikidia/fr/images/thumb/2/28/Drapeau_de_l%27Afrique_du_Sud.svg/20px-Drapeau_de_l%27Afrique_du_Sud.svg.png',\n",
              " 'https://download.vikidia.org/vikidia/fr/images/thumb/a/ad/Drapeau_de_l%27Algerie.svg/20px-Drapeau_de_l%27Algerie.svg.png',\n",
              " 'https://download.vikidia.org/vikidia/fr/images/thumb/e/e1/Drapeau_de_l%27Angola.svg/20px-Drapeau_de_l%27Angola.svg.png',\n",
              " 'https://download.vikidia.org/vikidia/fr/images/thumb/4/4a/Drapeau_du_Benin.svg/20px-Drapeau_du_Benin.svg.png',\n",
              " 'https://download.vikidia.org/vikidia/fr/images/thumb/e/eb/Drapeau_du_Botswana.svg/20px-Drapeau_du_Botswana.svg.png',\n",
              " 'https://download.vikidia.org/vikidia/fr/images/thumb/5/53/Drapeau_du_Burkina_Faso.svg/20px-Drapeau_du_Burkina_Faso.svg.png',\n",
              " 'https://download.vikidia.org/vikidia/fr/images/thumb/9/92/Drapeau_du_Burundi.svg/20px-Drapeau_du_Burundi.svg.png',\n",
              " 'https://download.vikidia.org/vikidia/fr/images/thumb/2/27/Drapeau_du_Cameroun.svg/20px-Drapeau_du_Cameroun.svg.png',\n",
              " 'https://download.vikidia.org/vikidia/fr/images/thumb/8/8b/Drapeau_du_Cap-Vert.svg/20px-Drapeau_du_Cap-Vert.svg.png',\n",
              " 'https://download.vikidia.org/vikidia/fr/images/thumb/d/df/Drapeau_de_la_Republique_centrafricaine.svg/20px-Drapeau_de_la_Republique_centrafricaine.svg.png',\n",
              " 'https://download.vikidia.org/vikidia/fr/images/thumb/1/15/Drapeau_des_Comores.svg/20px-Drapeau_des_Comores.svg.png',\n",
              " 'https://download.vikidia.org/vikidia/fr/images/thumb/b/b2/Drapeau_de_la_Republique_du_Congo.svg/20px-Drapeau_de_la_Republique_du_Congo.svg.png',\n",
              " 'https://download.vikidia.org/vikidia/fr/images/thumb/2/23/Drapeau_de_la_Republique_democratique_du_Congo.svg/20px-Drapeau_de_la_Republique_democratique_du_Congo.svg.png',\n",
              " 'https://download.vikidia.org/vikidia/fr/images/thumb/3/3e/Drapeau_de_la_Cote_d%27Ivoire.svg/20px-Drapeau_de_la_Cote_d%27Ivoire.svg.png',\n",
              " 'https://download.vikidia.org/vikidia/fr/images/thumb/e/e0/Drapeau_de_Djibouti.svg/20px-Drapeau_de_Djibouti.svg.png',\n",
              " 'https://download.vikidia.org/vikidia/fr/images/thumb/d/dc/Drapeau_de_l%27Egypte.svg/20px-Drapeau_de_l%27Egypte.svg.png',\n",
              " 'https://download.vikidia.org/vikidia/fr/images/thumb/b/b2/Drapeau_de_l%27Erythree.svg/20px-Drapeau_de_l%27Erythree.svg.png',\n",
              " 'https://download.vikidia.org/vikidia/fr/images/thumb/6/68/Drapeau_du_Swaziland.svg/20px-Drapeau_du_Swaziland.svg.png',\n",
              " 'https://download.vikidia.org/vikidia/fr/images/thumb/0/09/Drapeau_de_l%27Ethiopie.svg/20px-Drapeau_de_l%27Ethiopie.svg.png',\n",
              " 'https://download.vikidia.org/vikidia/fr/images/thumb/f/fd/Drapeau_du_Gabon.svg/20px-Drapeau_du_Gabon.svg.png',\n",
              " 'https://download.vikidia.org/vikidia/fr/images/thumb/a/a9/Drapeau_de_la_Gambie.svg/20px-Drapeau_de_la_Gambie.svg.png',\n",
              " 'https://download.vikidia.org/vikidia/fr/images/thumb/c/c8/Drapeau_du_Ghana.svg/20px-Drapeau_du_Ghana.svg.png',\n",
              " 'https://download.vikidia.org/vikidia/fr/images/thumb/6/62/Drapeau_de_la_Guinee.svg/20px-Drapeau_de_la_Guinee.svg.png',\n",
              " 'https://download.vikidia.org/vikidia/fr/images/thumb/2/2e/Drapeau_de_la_Guinee-Bissau.svg/20px-Drapeau_de_la_Guinee-Bissau.svg.png',\n",
              " 'https://download.vikidia.org/vikidia/fr/images/thumb/b/bf/Drapeau_de_la_Guinee_equatoriale.svg/20px-Drapeau_de_la_Guinee_equatoriale.svg.png',\n",
              " 'https://download.vikidia.org/vikidia/fr/images/thumb/a/a8/Drapeau_du_Kenya.svg/20px-Drapeau_du_Kenya.svg.png',\n",
              " 'https://download.vikidia.org/vikidia/fr/images/thumb/c/c6/Drapeau_du_Lesotho.svg/20px-Drapeau_du_Lesotho.svg.png',\n",
              " 'https://download.vikidia.org/vikidia/fr/images/thumb/0/03/Drapeau_du_Liberia.svg/20px-Drapeau_du_Liberia.svg.png',\n",
              " 'https://upload.wikimedia.org/wikipedia/commons/thumb/2/2c/Flag_of_Libya_%281951%E2%80%931969%29.svg/20px-Flag_of_Libya_%281951%E2%80%931969%29.svg.png',\n",
              " 'https://download.vikidia.org/vikidia/fr/images/thumb/5/50/Drapeau_de_Madagascar.svg/20px-Drapeau_de_Madagascar.svg.png',\n",
              " 'https://download.vikidia.org/vikidia/fr/images/thumb/4/45/Drapeau_du_Malawi.svg/20px-Drapeau_du_Malawi.svg.png',\n",
              " 'https://download.vikidia.org/vikidia/fr/images/thumb/3/3c/Drapeau_du_Mali.svg/20px-Drapeau_du_Mali.svg.png',\n",
              " 'https://download.vikidia.org/vikidia/fr/images/thumb/8/89/Drapeau_du_Maroc.svg/20px-Drapeau_du_Maroc.svg.png',\n",
              " 'https://download.vikidia.org/vikidia/fr/images/thumb/5/5f/Drapeau_de_Maurice.svg/20px-Drapeau_de_Maurice.svg.png',\n",
              " 'https://download.vikidia.org/vikidia/fr/images/thumb/a/aa/Drapeau_de_la_Mauritanie.svg/20px-Drapeau_de_la_Mauritanie.svg.png',\n",
              " 'https://download.vikidia.org/vikidia/fr/images/thumb/a/a2/Drapeau_du_Mozambique.svg/20px-Drapeau_du_Mozambique.svg.png',\n",
              " 'https://download.vikidia.org/vikidia/fr/images/thumb/d/da/Drapeau_de_la_Namibie.svg/20px-Drapeau_de_la_Namibie.svg.png',\n",
              " 'https://download.vikidia.org/vikidia/fr/images/thumb/8/85/Drapeau_du_Niger.svg/20px-Drapeau_du_Niger.svg.png',\n",
              " 'https://download.vikidia.org/vikidia/fr/images/thumb/e/e7/Drapeau_du_Nigeria.svg/20px-Drapeau_du_Nigeria.svg.png',\n",
              " 'https://download.vikidia.org/vikidia/fr/images/thumb/3/3e/Drapeau_de_l%27Ouganda.svg/20px-Drapeau_de_l%27Ouganda.svg.png',\n",
              " 'https://download.vikidia.org/vikidia/fr/images/thumb/7/7c/Drapeau_du_Rwanda.svg/20px-Drapeau_du_Rwanda.svg.png',\n",
              " 'https://download.vikidia.org/vikidia/fr/images/thumb/5/5b/Drapeau_de_Sao_Tome-et-Principe.svg/20px-Drapeau_de_Sao_Tome-et-Principe.svg.png',\n",
              " 'https://download.vikidia.org/vikidia/fr/images/thumb/2/21/Drapeau_du_Senegal.svg/20px-Drapeau_du_Senegal.svg.png',\n",
              " 'https://download.vikidia.org/vikidia/fr/images/thumb/1/13/Drapeau_des_Seychelles.svg/20px-Drapeau_des_Seychelles.svg.png',\n",
              " 'https://download.vikidia.org/vikidia/fr/images/thumb/7/79/Drapeau_de_la_Sierra_Leone.svg/20px-Drapeau_de_la_Sierra_Leone.svg.png',\n",
              " 'https://download.vikidia.org/vikidia/fr/images/thumb/e/e6/Drapeau_de_la_Somalie.svg/20px-Drapeau_de_la_Somalie.svg.png',\n",
              " 'https://download.vikidia.org/vikidia/fr/images/thumb/3/37/Drapeau_du_Soudan.svg/20px-Drapeau_du_Soudan.svg.png',\n",
              " 'https://download.vikidia.org/vikidia/fr/images/thumb/e/e4/Drapeau_du_Soudan_du_Sud.svg/20px-Drapeau_du_Soudan_du_Sud.svg.png',\n",
              " 'https://download.vikidia.org/vikidia/fr/images/thumb/d/d7/Drapeau_de_la_Tanzanie.svg/20px-Drapeau_de_la_Tanzanie.svg.png',\n",
              " 'https://download.vikidia.org/vikidia/fr/images/thumb/6/63/Drapeau_du_Tchad.svg/20px-Drapeau_du_Tchad.svg.png',\n",
              " 'https://download.vikidia.org/vikidia/fr/images/thumb/2/21/Drapeau_du_Togo.svg/20px-Drapeau_du_Togo.svg.png',\n",
              " 'https://download.vikidia.org/vikidia/fr/images/thumb/d/dc/Drapeau_de_la_Tunisie.svg/20px-Drapeau_de_la_Tunisie.svg.png',\n",
              " 'https://download.vikidia.org/vikidia/fr/images/thumb/8/87/Drapeau_de_la_Zambie.svg/20px-Drapeau_de_la_Zambie.svg.png',\n",
              " 'https://download.vikidia.org/vikidia/fr/images/thumb/1/12/Drapeau_du_Zimbabwe.svg/20px-Drapeau_du_Zimbabwe.svg.png',\n",
              " 'https://download.vikidia.org/vikidia/fr/images/thumb/a/ad/Drapeau_de_l%27Algerie.svg/20px-Drapeau_de_l%27Algerie.svg.png',\n",
              " 'https://download.vikidia.org/vikidia/fr/images/thumb/d/dc/Drapeau_de_l%27Egypte.svg/20px-Drapeau_de_l%27Egypte.svg.png',\n",
              " 'https://upload.wikimedia.org/wikipedia/commons/thumb/2/2c/Flag_of_Libya_%281951%E2%80%931969%29.svg/20px-Flag_of_Libya_%281951%E2%80%931969%29.svg.png',\n",
              " 'https://download.vikidia.org/vikidia/fr/images/thumb/8/89/Drapeau_du_Maroc.svg/20px-Drapeau_du_Maroc.svg.png',\n",
              " 'https://download.vikidia.org/vikidia/fr/images/thumb/a/aa/Drapeau_de_la_Mauritanie.svg/20px-Drapeau_de_la_Mauritanie.svg.png',\n",
              " 'https://download.vikidia.org/vikidia/fr/images/thumb/3/37/Drapeau_du_Soudan.svg/20px-Drapeau_du_Soudan.svg.png',\n",
              " 'https://download.vikidia.org/vikidia/fr/images/thumb/d/dc/Drapeau_de_la_Tunisie.svg/20px-Drapeau_de_la_Tunisie.svg.png',\n",
              " 'https://download.vikidia.org/vikidia/fr/images/thumb/4/4a/Drapeau_du_Benin.svg/20px-Drapeau_du_Benin.svg.png',\n",
              " 'https://download.vikidia.org/vikidia/fr/images/thumb/5/53/Drapeau_du_Burkina_Faso.svg/20px-Drapeau_du_Burkina_Faso.svg.png',\n",
              " 'https://download.vikidia.org/vikidia/fr/images/thumb/8/8b/Drapeau_du_Cap-Vert.svg/20px-Drapeau_du_Cap-Vert.svg.png',\n",
              " 'https://download.vikidia.org/vikidia/fr/images/thumb/3/3e/Drapeau_de_la_Cote_d%27Ivoire.svg/20px-Drapeau_de_la_Cote_d%27Ivoire.svg.png',\n",
              " 'https://download.vikidia.org/vikidia/fr/images/thumb/a/a9/Drapeau_de_la_Gambie.svg/20px-Drapeau_de_la_Gambie.svg.png',\n",
              " 'https://download.vikidia.org/vikidia/fr/images/thumb/c/c8/Drapeau_du_Ghana.svg/20px-Drapeau_du_Ghana.svg.png',\n",
              " 'https://download.vikidia.org/vikidia/fr/images/thumb/6/62/Drapeau_de_la_Guinee.svg/20px-Drapeau_de_la_Guinee.svg.png',\n",
              " 'https://download.vikidia.org/vikidia/fr/images/thumb/2/2e/Drapeau_de_la_Guinee-Bissau.svg/20px-Drapeau_de_la_Guinee-Bissau.svg.png',\n",
              " 'https://download.vikidia.org/vikidia/fr/images/thumb/0/03/Drapeau_du_Liberia.svg/20px-Drapeau_du_Liberia.svg.png',\n",
              " 'https://download.vikidia.org/vikidia/fr/images/thumb/3/3c/Drapeau_du_Mali.svg/20px-Drapeau_du_Mali.svg.png',\n",
              " 'https://download.vikidia.org/vikidia/fr/images/thumb/8/85/Drapeau_du_Niger.svg/20px-Drapeau_du_Niger.svg.png',\n",
              " 'https://download.vikidia.org/vikidia/fr/images/thumb/e/e7/Drapeau_du_Nigeria.svg/20px-Drapeau_du_Nigeria.svg.png',\n",
              " 'https://download.vikidia.org/vikidia/fr/images/thumb/2/21/Drapeau_du_Senegal.svg/20px-Drapeau_du_Senegal.svg.png',\n",
              " 'https://download.vikidia.org/vikidia/fr/images/thumb/7/79/Drapeau_de_la_Sierra_Leone.svg/20px-Drapeau_de_la_Sierra_Leone.svg.png',\n",
              " 'https://download.vikidia.org/vikidia/fr/images/thumb/2/21/Drapeau_du_Togo.svg/20px-Drapeau_du_Togo.svg.png',\n",
              " 'https://download.vikidia.org/vikidia/fr/images/thumb/2/27/Drapeau_du_Cameroun.svg/20px-Drapeau_du_Cameroun.svg.png',\n",
              " 'https://download.vikidia.org/vikidia/fr/images/thumb/f/fd/Drapeau_du_Gabon.svg/20px-Drapeau_du_Gabon.svg.png',\n",
              " 'https://download.vikidia.org/vikidia/fr/images/thumb/b/bf/Drapeau_de_la_Guinee_equatoriale.svg/20px-Drapeau_de_la_Guinee_equatoriale.svg.png',\n",
              " 'https://download.vikidia.org/vikidia/fr/images/thumb/d/df/Drapeau_de_la_Republique_centrafricaine.svg/20px-Drapeau_de_la_Republique_centrafricaine.svg.png',\n",
              " 'https://download.vikidia.org/vikidia/fr/images/thumb/2/23/Drapeau_de_la_Republique_democratique_du_Congo.svg/20px-Drapeau_de_la_Republique_democratique_du_Congo.svg.png',\n",
              " 'https://download.vikidia.org/vikidia/fr/images/thumb/b/b2/Drapeau_de_la_Republique_du_Congo.svg/20px-Drapeau_de_la_Republique_du_Congo.svg.png',\n",
              " 'https://download.vikidia.org/vikidia/fr/images/thumb/5/5b/Drapeau_de_Sao_Tome-et-Principe.svg/20px-Drapeau_de_Sao_Tome-et-Principe.svg.png',\n",
              " 'https://download.vikidia.org/vikidia/fr/images/thumb/6/63/Drapeau_du_Tchad.svg/20px-Drapeau_du_Tchad.svg.png',\n",
              " 'https://download.vikidia.org/vikidia/fr/images/thumb/9/92/Drapeau_du_Burundi.svg/20px-Drapeau_du_Burundi.svg.png',\n",
              " 'https://download.vikidia.org/vikidia/fr/images/thumb/e/e0/Drapeau_de_Djibouti.svg/20px-Drapeau_de_Djibouti.svg.png',\n",
              " 'https://download.vikidia.org/vikidia/fr/images/thumb/b/b2/Drapeau_de_l%27Erythree.svg/20px-Drapeau_de_l%27Erythree.svg.png',\n",
              " 'https://download.vikidia.org/vikidia/fr/images/thumb/0/09/Drapeau_de_l%27Ethiopie.svg/20px-Drapeau_de_l%27Ethiopie.svg.png',\n",
              " 'https://download.vikidia.org/vikidia/fr/images/thumb/a/a8/Drapeau_du_Kenya.svg/20px-Drapeau_du_Kenya.svg.png',\n",
              " 'https://download.vikidia.org/vikidia/fr/images/thumb/3/3e/Drapeau_de_l%27Ouganda.svg/20px-Drapeau_de_l%27Ouganda.svg.png',\n",
              " 'https://download.vikidia.org/vikidia/fr/images/thumb/7/7c/Drapeau_du_Rwanda.svg/20px-Drapeau_du_Rwanda.svg.png',\n",
              " 'https://download.vikidia.org/vikidia/fr/images/thumb/1/13/Drapeau_des_Seychelles.svg/20px-Drapeau_des_Seychelles.svg.png',\n",
              " 'https://download.vikidia.org/vikidia/fr/images/thumb/e/e6/Drapeau_de_la_Somalie.svg/20px-Drapeau_de_la_Somalie.svg.png',\n",
              " 'https://download.vikidia.org/vikidia/fr/images/thumb/e/e4/Drapeau_du_Soudan_du_Sud.svg/20px-Drapeau_du_Soudan_du_Sud.svg.png',\n",
              " 'https://download.vikidia.org/vikidia/fr/images/thumb/d/d7/Drapeau_de_la_Tanzanie.svg/20px-Drapeau_de_la_Tanzanie.svg.png',\n",
              " 'https://download.vikidia.org/vikidia/fr/images/thumb/2/28/Drapeau_de_l%27Afrique_du_Sud.svg/20px-Drapeau_de_l%27Afrique_du_Sud.svg.png',\n",
              " 'https://download.vikidia.org/vikidia/fr/images/thumb/e/e1/Drapeau_de_l%27Angola.svg/20px-Drapeau_de_l%27Angola.svg.png',\n",
              " 'https://download.vikidia.org/vikidia/fr/images/thumb/e/eb/Drapeau_du_Botswana.svg/20px-Drapeau_du_Botswana.svg.png',\n",
              " 'https://download.vikidia.org/vikidia/fr/images/thumb/1/15/Drapeau_des_Comores.svg/20px-Drapeau_des_Comores.svg.png',\n",
              " 'https://download.vikidia.org/vikidia/fr/images/thumb/c/c6/Drapeau_du_Lesotho.svg/20px-Drapeau_du_Lesotho.svg.png',\n",
              " 'https://download.vikidia.org/vikidia/fr/images/thumb/5/50/Drapeau_de_Madagascar.svg/20px-Drapeau_de_Madagascar.svg.png',\n",
              " 'https://download.vikidia.org/vikidia/fr/images/thumb/4/45/Drapeau_du_Malawi.svg/20px-Drapeau_du_Malawi.svg.png',\n",
              " 'https://download.vikidia.org/vikidia/fr/images/thumb/5/5f/Drapeau_de_Maurice.svg/20px-Drapeau_de_Maurice.svg.png',\n",
              " 'https://download.vikidia.org/vikidia/fr/images/thumb/a/a2/Drapeau_du_Mozambique.svg/20px-Drapeau_du_Mozambique.svg.png',\n",
              " 'https://download.vikidia.org/vikidia/fr/images/thumb/d/da/Drapeau_de_la_Namibie.svg/20px-Drapeau_de_la_Namibie.svg.png',\n",
              " 'https://download.vikidia.org/vikidia/fr/images/thumb/6/68/Drapeau_du_Swaziland.svg/20px-Drapeau_du_Swaziland.svg.png',\n",
              " 'https://download.vikidia.org/vikidia/fr/images/thumb/8/87/Drapeau_de_la_Zambie.svg/20px-Drapeau_de_la_Zambie.svg.png',\n",
              " 'https://download.vikidia.org/vikidia/fr/images/thumb/1/12/Drapeau_du_Zimbabwe.svg/20px-Drapeau_du_Zimbabwe.svg.png']"
            ]
          },
          "metadata": {},
          "execution_count": 5
        }
      ]
    },
    {
      "cell_type": "code",
      "source": [
        "index_list = []\n",
        "for b in images:\n",
        "  index = b.find('20px')\n",
        "  index_list.append(b[index + 5:][:-8])\n",
        "index_list[0]"
      ],
      "metadata": {
        "colab": {
          "base_uri": "https://localhost:8080/",
          "height": 36
        },
        "id": "g4gfpVV1cCvJ",
        "outputId": "10df45cd-e5cd-4ffa-a27c-210f3b569b2c"
      },
      "execution_count": 6,
      "outputs": [
        {
          "output_type": "execute_result",
          "data": {
            "text/plain": [
              "'Drapeau_de_l%27Afrique_du_Sud'"
            ],
            "application/vnd.google.colaboratory.intrinsic+json": {
              "type": "string"
            }
          },
          "metadata": {},
          "execution_count": 6
        }
      ]
    },
    {
      "cell_type": "code",
      "source": [
        "os.mkdir('images')\n",
        "for i, index_name in zip(images, index_list):\n",
        "  img_data = requests.get(i).content \n",
        "  with open('images/' + str(index_name) + '.png', 'wb') as handler: \n",
        "       handler.write(img_data) "
      ],
      "metadata": {
        "id": "_4NCzCwWUmcY"
      },
      "execution_count": 9,
      "outputs": []
    },
    {
      "cell_type": "code",
      "source": [
        "os.listdir('images')"
      ],
      "metadata": {
        "colab": {
          "base_uri": "https://localhost:8080/"
        },
        "id": "jlciUrXgfRCB",
        "outputId": "f0fdc553-c5eb-49c2-bb11-5ed8fdcb6b28"
      },
      "execution_count": 92,
      "outputs": [
        {
          "output_type": "execute_result",
          "data": {
            "text/plain": [
              "['Drapeau_du_Mali.png',\n",
              " 'Drapeau_du_Maroc.png',\n",
              " 'Drapeau_du_Soudan.png',\n",
              " 'Drapeau_du_Zimbabwe.png',\n",
              " 'Drapeau_de_la_Guinee_equatoriale.png',\n",
              " 'Drapeau_du_Rwanda.png',\n",
              " 'Drapeau_de_Maurice.png',\n",
              " 'Drapeau_de_l%27Erythree.png',\n",
              " 'Drapeau_des_Seychelles.png',\n",
              " 'Drapeau_de_la_Namibie.png',\n",
              " 'Drapeau_de_la_Tanzanie.png',\n",
              " 'Drapeau_du_Swaziland.png',\n",
              " 'Drapeau_de_la_Somalie.png',\n",
              " 'Drapeau_du_Tchad.png',\n",
              " 'Drapeau_de_l%27Algerie.png',\n",
              " 'Flag_of_Libya_%281951%E2%80%931969%29.png',\n",
              " 'Drapeau_du_Kenya.png',\n",
              " 'Drapeau_de_la_Tunisie.png',\n",
              " 'Drapeau_de_l%27Afrique_du_Sud.png',\n",
              " 'Drapeau_de_l%27Ethiopie.png',\n",
              " 'Drapeau_de_la_Mauritanie.png',\n",
              " 'Drapeau_de_la_Zambie.png',\n",
              " 'Drapeau_du_Nigeria.png',\n",
              " 'Drapeau_de_la_Guinee.png',\n",
              " 'Drapeau_de_Djibouti.png',\n",
              " 'Drapeau_de_la_Republique_du_Congo.png',\n",
              " 'Drapeau_de_la_Cote_d%27Ivoire.png',\n",
              " 'Drapeau_du_Liberia.png',\n",
              " 'Drapeau_de_la_Guinee-Bissau.png',\n",
              " 'Drapeau_du_Malawi.png',\n",
              " 'Drapeau_du_Niger.png',\n",
              " 'Drapeau_de_l%27Angola.png',\n",
              " 'Drapeau_du_Burkina_Faso.png',\n",
              " 'Drapeau_de_la_Sierra_Leone.png',\n",
              " 'Drapeau_du_Senegal.png',\n",
              " 'Drapeau_du_Cap-Vert.png',\n",
              " 'Drapeau_du_Burundi.png',\n",
              " 'Drapeau_de_la_Republique_democratique_du_Congo.png',\n",
              " 'nom.png',\n",
              " 'Drapeau_du_Ghana.png',\n",
              " 'Drapeau_du_Benin.png',\n",
              " 'Drapeau_de_la_Republique_centrafricaine.png',\n",
              " 'Drapeau_de_l%27Ouganda.png',\n",
              " 'Drapeau_du_Togo.png',\n",
              " 'Drapeau_du_Lesotho.png',\n",
              " 'Drapeau_de_Sao_Tome-et-Principe.png',\n",
              " 'Drapeau_du_Soudan_du_Sud.png',\n",
              " 'Drapeau_des_Comores.png',\n",
              " 'Drapeau_du_Cameroun.png',\n",
              " 'Drapeau_du_Gabon.png',\n",
              " 'Drapeau_de_la_Gambie.png',\n",
              " 'Drapeau_de_l%27Egypte.png',\n",
              " 'Drapeau_du_Botswana.png',\n",
              " 'Drapeau_de_Madagascar.png',\n",
              " 'Drapeau_du_Mozambique.png']"
            ]
          },
          "metadata": {},
          "execution_count": 92
        }
      ]
    },
    {
      "cell_type": "code",
      "source": [
        "imgplot = plt.imread(\"/content/images/Drapeau_de_Djibouti.png\")\n",
        "plt.imshow(imgplot);"
      ],
      "metadata": {
        "colab": {
          "base_uri": "https://localhost:8080/",
          "height": 265
        },
        "id": "-SL9_KHnhnUJ",
        "outputId": "e53e95f8-0afc-4276-9de0-6f539640181f"
      },
      "execution_count": 12,
      "outputs": [
        {
          "output_type": "display_data",
          "data": {
            "text/plain": [
              "<Figure size 432x288 with 1 Axes>"
            ],
            "image/png": "[encoded data removed]"
          },
          "metadata": {
            "needs_background": "light"
          }
        }
      ]
    },
    {
      "cell_type": "code",
      "source": [
        "from PIL import Image\n",
        " \n",
        "#read the image from path\n",
        "image = Image.open(\"/content/images/Drapeau_de_Djibouti.png\")\n"
      ],
      "metadata": {
        "id": "AQfvkm-3qD15"
      },
      "execution_count": 13,
      "outputs": []
    },
    {
      "cell_type": "code",
      "source": [
        "image"
      ],
      "metadata": {
        "colab": {
          "base_uri": "https://localhost:8080/",
          "height": 34
        },
        "id": "rh-IYTLhsoAT",
        "outputId": "70b9821e-90b3-45cc-c2d8-d423ab7d2a1e"
      },
      "execution_count": 15,
      "outputs": [
        {
          "output_type": "execute_result",
          "data": {
            "text/plain": [
              "<PIL.PngImagePlugin.PngImageFile image mode=RGBA size=20x13 at 0x7F09D3877EB0>"
            ],
            "image/png": "[encoded data removed]"
          },
          "metadata": {},
          "execution_count": 15
        }
      ]
    },
    {
      "cell_type": "code",
      "source": [],
      "metadata": {
        "id": "pVsSJvvGild9"
      },
      "execution_count": null,
      "outputs": []
    }
  ]
}